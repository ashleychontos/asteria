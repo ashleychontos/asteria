{
 "cells": [
  {
   "cell_type": "code",
   "execution_count": 1,
   "metadata": {},
   "outputs": [],
   "source": [
    "import os\n",
    "import random\n",
    "import numpy as np\n",
    "import pandas as pd\n",
    "from scipy import stats, interpolate"
   ]
  },
  {
   "cell_type": "code",
   "execution_count": 7,
   "metadata": {},
   "outputs": [],
   "source": [
    "def fix_distribution(x, y):\n",
    "    indices=[0]\n",
    "    for i in range(1,len(y)):\n",
    "        if y[i] != y[i-1]:\n",
    "            indices.append(i)\n",
    "    x, y = x[indices], y[indices]\n",
    "    return x, y\n",
    "\n",
    "\n",
    "def get_inverse(args, query, n_bins=100, log=False):\n",
    "    kernel = stats.gaussian_kde(query.period.values)\n",
    "    lower, upper = min(query.period.values), max(query.period.values)\n",
    "    if args.log:\n",
    "        x = np.logspace(np.log10(lower),np.log10(upper),args.n_bins)\n",
    "    else:\n",
    "        x = np.linspace(lower,upper,args.n_bins)\n",
    "    y = np.cumsum(kernel(x))/np.sum(kernel(x))\n",
    "    x, y = fix_distribution(x, y)\n",
    "    try:\n",
    "        spline = interpolate.CubicSpline(y, x)\n",
    "    except ValueError:\n",
    "        return None, None\n",
    "    else:\n",
    "        xnew = np.linspace(min(y),max(y),args.n_bins)\n",
    "        return xnew, spline\n",
    "    \n",
    "# Main function to import when not using CLI\n",
    "def get_period(teff, logg, path='rotation.csv', min_sample=20, res_teff=100., res_logg=0.1, log=False, n_bins=100, verbose=True):\n",
    "    period=[]\n",
    "    # read in known rotation periods and get limits\n",
    "    df = pd.read_csv(path)\n",
    "    for tt, ll in zip(teff, logg):\n",
    "        per = np.nan\n",
    "        # select stars near target in HR diagram\n",
    "        query = df.query(\"teff >= %f and teff < %f and logg >= %f and logg < %f\"%(tt-(res_teff/2.), tt+(res_teff/2.), ll-(res_logg/2.), ll+(res_logg/2.)))\n",
    "        if len(query) < min_sample:\n",
    "            if verbose:\n",
    "                print('WARNING: not enough in the sample to create an accurate distribution.\\nTry changing the resolution of the grid to include more stars!')\n",
    "                print('Currently using teff +/- %.1f K and logg +/- %.2f dex'%(res_teff/2.,res_logg/2.))\n",
    "        else:\n",
    "            kernel = stats.gaussian_kde(query.period.values)\n",
    "            lower, upper = min(query.period.values), max(query.period.values)\n",
    "            if log:\n",
    "                x = np.logspace(np.log10(lower),np.log10(upper),n_bins)\n",
    "            else:\n",
    "                x = np.linspace(lower,upper,n_bins)\n",
    "            y = np.cumsum(kernel(x))/np.sum(kernel(x))\n",
    "            x, y = fix_distribution(x, y)\n",
    "            try:\n",
    "                spline = interpolate.CubicSpline(y, x)\n",
    "            except ValueError:\n",
    "                continue\n",
    "            else:\n",
    "                # draw random number to map back to period distribution\n",
    "                per = spline(random.random())+0.\n",
    "        period.append(per)\n",
    "    return np.array(period)"
   ]
  },
  {
   "cell_type": "markdown",
   "metadata": {},
   "source": [
    "### Example for a single star\n",
    "if it's for one, just make them list-like\n",
    "(because this is optimized for command line - which will append values to a list)"
   ]
  },
  {
   "cell_type": "code",
   "execution_count": 11,
   "metadata": {},
   "outputs": [
    {
     "name": "stdout",
     "output_type": "stream",
     "text": [
      "[19.78076579]\n"
     ]
    }
   ],
   "source": [
    "prot = get_period([5777.], [4.4])\n",
    "print(prot)"
   ]
  },
  {
   "cell_type": "markdown",
   "metadata": {},
   "source": [
    "### Running a handful of stars\n",
    "**note:** make sure to reset the \"period\""
   ]
  },
  {
   "cell_type": "code",
   "execution_count": 13,
   "metadata": {},
   "outputs": [
    {
     "name": "stdout",
     "output_type": "stream",
     "text": [
      "[34.4363753  26.43575009 11.1858871  10.97166953  0.50360504]\n"
     ]
    }
   ],
   "source": [
    "teff = [5250., 5777., 5250., 5858., 6000.]\n",
    "logg = [4.6, 4.4, 4.5, 4.3, 4.2]\n",
    "\n",
    "prot = get_period(teff, logg)\n",
    "print(prot)"
   ]
  },
  {
   "cell_type": "code",
   "execution_count": null,
   "metadata": {},
   "outputs": [],
   "source": []
  }
 ],
 "metadata": {
  "kernelspec": {
   "display_name": "Python 3",
   "language": "python",
   "name": "python3"
  },
  "language_info": {
   "codemirror_mode": {
    "name": "ipython",
    "version": 3
   },
   "file_extension": ".py",
   "mimetype": "text/x-python",
   "name": "python",
   "nbconvert_exporter": "python",
   "pygments_lexer": "ipython3",
   "version": "3.7.8"
  }
 },
 "nbformat": 4,
 "nbformat_minor": 4
}
