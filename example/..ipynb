{
 "cells": [
  {
   "cell_type": "code",
   "execution_count": 5,
   "metadata": {},
   "outputs": [],
   "source": [
    "import os\n",
    "import random\n",
    "import numpy as np\n",
    "import pandas as pd\n",
    "from scipy import stats, interpolate"
   ]
  },
  {
   "cell_type": "code",
   "execution_count": 6,
   "metadata": {},
   "outputs": [],
   "source": [
    "def fix_distribution(x, y):\n",
    "    indices=[0]\n",
    "    for i in range(1,len(y)):\n",
    "        if y[i] != y[i-1]:\n",
    "            indices.append(i)\n",
    "    x, y = x[indices], y[indices]\n",
    "    return x, y\n",
    "\n",
    "\n",
    "def get_inverse(args, query, n_bins=100, log=False):\n",
    "    kernel = stats.gaussian_kde(query.period.values)\n",
    "    lower, upper = min(query.period.values), max(query.period.values)\n",
    "    if args.log:\n",
    "        x = np.logspace(np.log10(lower),np.log10(upper),args.n_bins)\n",
    "    else:\n",
    "        x = np.linspace(lower,upper,args.n_bins)\n",
    "    y = np.cumsum(kernel(x))/np.sum(kernel(x))\n",
    "    x, y = fix_distribution(x, y)\n",
    "    try:\n",
    "        spline = interpolate.CubicSpline(y, x)\n",
    "    except ValueError:\n",
    "        return None, None\n",
    "    else:\n",
    "        xnew = np.linspace(min(y),max(y),args.n_bins)\n",
    "        return xnew, spline\n",
    "    \n",
    "# Main function to import when not using CLI\n",
    "def get_period(teff, logg, period=[], path='rotation.csv', min_sample=20, res_teff=100., res_logg=0.1, log=False, n_bins=100, verbose=True):\n",
    "    # read in known rotation periods and get limits\n",
    "    df = pd.read_csv(path)\n",
    "    for tt, ll in zip(teff, logg):\n",
    "        per = np.nan\n",
    "        # select stars near target in HR diagram\n",
    "        query = df.query(\"teff >= %f and teff < %f and logg >= %f and logg < %f\"%(tt-(res_teff/2.), tt+(res_teff/2.), ll-(res_logg/2.), ll+(res_logg/2.)))\n",
    "        if len(query) < min_sample:\n",
    "            if verbose:\n",
    "                print('WARNING: not enough in the sample to create an accurate distribution.\\nTry changing the resolution of the grid to include more stars!')\n",
    "                print('Currently using teff +/- %.1f K and logg +/- %.2f dex'%(res_teff/2.,res_logg/2.))\n",
    "        else:\n",
    "            kernel = stats.gaussian_kde(query.period.values)\n",
    "            lower, upper = min(query.period.values), max(query.period.values)\n",
    "            if log:\n",
    "                x = np.logspace(np.log10(lower),np.log10(upper),n_bins)\n",
    "            else:\n",
    "                x = np.linspace(lower,upper,n_bins)\n",
    "            y = np.cumsum(kernel(x))/np.sum(kernel(x))\n",
    "            x, y = fix_distribution(x, y)\n",
    "            try:\n",
    "                spline = interpolate.CubicSpline(y, x)\n",
    "            except ValueError:\n",
    "                continue\n",
    "            else:\n",
    "                # draw random number to map back to period distribution\n",
    "                per = spline(random.random())+0.\n",
    "        period.append(per)\n",
    "    return np.array(period)"
   ]
  },
  {
   "cell_type": "markdown",
   "metadata": {},
   "source": [
    "### For a single star\n",
    "(needs to be in list-like form since that's how command line would read the parameters in)"
   ]
  },
  {
   "cell_type": "code",
   "execution_count": 7,
   "metadata": {},
   "outputs": [
    {
     "name": "stdout",
     "output_type": "stream",
     "text": [
      "[17.07247756]\n"
     ]
    }
   ],
   "source": [
    "prot = get_period([5777.], [4.4])\n",
    "print(prot)"
   ]
  },
  {
   "cell_type": "markdown",
   "metadata": {},
   "source": [
    "### For a handful of stars\n",
    "**note:** make sure to reset the period array by including the keyword argument"
   ]
  },
  {
   "cell_type": "code",
   "execution_count": 12,
   "metadata": {},
   "outputs": [
    {
     "name": "stdout",
     "output_type": "stream",
     "text": [
      "[23.98999569 17.97997179 14.08481249 21.35882387 14.71273078]\n"
     ]
    }
   ],
   "source": [
    "teff = [5000., 5250., 6000., 5838., 5777.]\n",
    "logg = [4.6, 4.4, 4.3, 4.4, 4.4]\n",
    "\n",
    "prot = get_period(teff, logg, period=[])\n",
    "print(prot)"
   ]
  },
  {
   "cell_type": "code",
   "execution_count": null,
   "metadata": {},
   "outputs": [],
   "source": []
  }
 ],
 "metadata": {
  "kernelspec": {
   "display_name": "Python 3",
   "language": "python",
   "name": "python3"
  },
  "language_info": {
   "codemirror_mode": {
    "name": "ipython",
    "version": 3
   },
   "file_extension": ".py",
   "mimetype": "text/x-python",
   "name": "python",
   "nbconvert_exporter": "python",
   "pygments_lexer": "ipython3",
   "version": "3.7.8"
  }
 },
 "nbformat": 4,
 "nbformat_minor": 4
}
